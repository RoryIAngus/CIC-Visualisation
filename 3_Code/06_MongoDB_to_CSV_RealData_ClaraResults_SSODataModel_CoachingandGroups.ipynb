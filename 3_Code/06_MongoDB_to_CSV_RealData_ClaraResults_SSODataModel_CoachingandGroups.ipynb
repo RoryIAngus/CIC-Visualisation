{
 "cells": [
  {
   "cell_type": "markdown",
   "metadata": {},
   "source": [
    "## Code Details\n",
    "Author: Rory Angus<br>\n",
    "Created: 19JAN19<br>\n",
    "Version: 0.1<br>\n",
    "***\n",
    "This code loads the data from Mongo and processes it to make the information about who has access to the different CLARA results based on their group membership.<br>\n",
    "At the moment this code is experimental and its functionality will be defined as I start to understand the data better. "
   ]
  },
  {
   "cell_type": "markdown",
   "metadata": {},
   "source": [
    "# Package Importing + Variable Setting"
   ]
  },
  {
   "cell_type": "code",
   "execution_count": 1,
   "metadata": {},
   "outputs": [],
   "source": [
    "import matplotlib\n",
    "#need to use this otherwise nothing appears in the notebook from the charting point of view\n",
    "matplotlib.use('module://ipykernel.pylab.backend_inline')\n",
    "import matplotlib.pyplot as plt\n",
    "import matplotlib.gridspec as gridspec\n",
    "from itertools import cycle, islice\n",
    "\n",
    "import pandas as pd\n",
    "import numpy as np\n",
    "from math import pi\n",
    "from math import ceil\n",
    "from math import floor\n",
    "import datetime\n",
    "\n",
    "# mongo stuff\n",
    "import pymongo\n",
    "from pymongo import MongoClient\n",
    "from bson.objectid import ObjectId"
   ]
  },
  {
   "cell_type": "code",
   "execution_count": 2,
   "metadata": {},
   "outputs": [],
   "source": [
    "# packages for the widgets\n",
    "from ipywidgets import interact, interactive, fixed, interact_manual\n",
    "import ipywidgets as widgets"
   ]
  },
  {
   "cell_type": "code",
   "execution_count": 3,
   "metadata": {},
   "outputs": [],
   "source": [
    "# if true the code outputs to the notebook a whole of diagnostic data that is helpful when writing but not so much when running it for real\n",
    "verbose = False\n",
    "# first run will truncate the target database and reload it from scratch. Once delta updates have been implmented this needs adjusting\n",
    "first_run = True"
   ]
  },
  {
   "cell_type": "markdown",
   "metadata": {},
   "source": [
    "# Set display options"
   ]
  },
  {
   "cell_type": "code",
   "execution_count": 4,
   "metadata": {},
   "outputs": [],
   "source": [
    "# further details found by running:\n",
    "# pd.describe_option('display')\n",
    "# set the values to show all of the columns etc.\n",
    "pd.set_option('display.max_columns', None)  # or 1000\n",
    "pd.set_option('display.max_rows', None)  # or 1000\n",
    "pd.set_option('display.max_colwidth', -1)  # or 199\n",
    "\n",
    "# locals() # show all of the local environments"
   ]
  },
  {
   "cell_type": "markdown",
   "metadata": {},
   "source": [
    "# Connect to Mongo DB"
   ]
  },
  {
   "cell_type": "code",
   "execution_count": 5,
   "metadata": {},
   "outputs": [],
   "source": [
    "# create the connection to MongoDB\n",
    "# define the location of the Mongo DB Server\n",
    "# in this instance it is a local copy running on the dev machine. This is configurable at this point.\n",
    "client = MongoClient('127.0.0.1', 27017)\n",
    "\n",
    "# define what the database is called.\n",
    "db = client.CLARA\n",
    "\n",
    "# define the collections\n",
    "\n",
    "coachDataCollection = db.raw_data_coach_coachee\n",
    "groupDataCollection = db.raw_data_group_user\n",
    "resultsDataCollection = db.raw_data_combined_user_results\n",
    "usersDataCollection = db.raw_data_claraUsers"
   ]
  },
  {
   "cell_type": "markdown",
   "metadata": {},
   "source": [
    "## Read Data \n",
    "This uses a variable that is defined above and puts it into a filter based on the student index. <br>\n",
    "This needs to be replaced with the student ID."
   ]
  },
  {
   "cell_type": "code",
   "execution_count": 6,
   "metadata": {},
   "outputs": [],
   "source": [
    "# Use this to define what to search on\n",
    "searchCriteria = [\n",
    "    \"f2f3c425-d4bf-4b1a-8112-e5d23d48719b\",\n",
    "    \"539693e6-bd4c-4c25-aeed-f62789032181\"\n",
    "]"
   ]
  },
  {
   "cell_type": "markdown",
   "metadata": {},
   "source": [
    "### Read the coaching relationship file"
   ]
  },
  {
   "cell_type": "code",
   "execution_count": 7,
   "metadata": {},
   "outputs": [],
   "source": [
    "# Need to introduce this check as the commands are different if I want to conduct a serach or return all values\n",
    "# create a variable to determine if I want to perform a wildcard search\n",
    "\n",
    "wildcardSearch = True\n"
   ]
  },
  {
   "cell_type": "code",
   "execution_count": 8,
   "metadata": {},
   "outputs": [],
   "source": [
    "# Get the group information from the data base\n",
    "# Query the data from the database using a filter\n",
    "queryField = \"userId\"\n",
    "sortField = \"coachId\"\n",
    "\n",
    "# define the search query\n",
    "query = {\n",
    "    queryField: {\n",
    "        '$in': searchCriteria\n",
    "    }  # matches ensuring only the requested students are supplied\n",
    "}\n",
    "\n",
    "if wildcardSearch:\n",
    "    # no filter is provided for a wildcard search\n",
    "    # return sorted results\n",
    "    cursor = coachDataCollection.find().sort([(sortField, 1)])\n",
    "else:\n",
    "    # return filtered and sorted results\n",
    "    cursor = coachDataCollection.find(query).sort([(sortField, 1)])\n",
    "\n",
    "# put the results into a dataframe\n",
    "dfCoach = pd.DataFrame(list(cursor))\n",
    "\n",
    "if verbose:\n",
    "    print(dfCoach.shape)\n",
    "    display(dfCoach.head())"
   ]
  },
  {
   "cell_type": "code",
   "execution_count": 9,
   "metadata": {},
   "outputs": [],
   "source": [
    "dfCoach.drop(['_id', 'insertdate', 'userGroup_index'],\n",
    "             inplace=True,\n",
    "             axis=1,\n",
    "             errors='ignore')\n",
    "\n",
    "if verbose:\n",
    "    display(dfCoach)"
   ]
  },
  {
   "cell_type": "markdown",
   "metadata": {},
   "source": [
    "### Read the users file"
   ]
  },
  {
   "cell_type": "code",
   "execution_count": 10,
   "metadata": {},
   "outputs": [],
   "source": [
    "# Need to introduce this check as the commands are different if I want to conduct a serach or return all values\n",
    "# create a variable to determine if I want to perform a wildcard search\n",
    "\n",
    "wildcardSearch = True\n"
   ]
  },
  {
   "cell_type": "code",
   "execution_count": 11,
   "metadata": {},
   "outputs": [],
   "source": [
    "# Get the group information from the data base\n",
    "# Query the data from the database using a filter\n",
    "queryField = \"userId\"\n",
    "sortField = \"coachId\"\n",
    "\n",
    "# define the search query\n",
    "query = {\n",
    "    queryField: {\n",
    "        '$in': searchCriteria\n",
    "    }  # matches ensuring only the requested students are supplied\n",
    "}\n",
    "\n",
    "if wildcardSearch:\n",
    "    # no filter is provided for a wildcard search\n",
    "    # return sorted results\n",
    "    cursor = usersDataCollection.find().sort([(sortField, 1)])\n",
    "else:\n",
    "    # return filtered and sorted results\n",
    "    cursor = usersDataCollection.find(query).sort([(sortField, 1)])\n",
    "\n",
    "# put the results into a dataframe\n",
    "dfUsers = pd.DataFrame(list(cursor))\n",
    "\n",
    "if verbose:\n",
    "    print(dfUsers.shape)\n",
    "    display(dfUsers.head())"
   ]
  },
  {
   "cell_type": "code",
   "execution_count": 12,
   "metadata": {},
   "outputs": [],
   "source": [
    "# drop columns that are not needed from the data frame\n",
    "# 'orgUserId' is needed to link back to the results\n",
    "dfUsers.drop([\n",
    "    '_id', 'insertdate', 'user_index', 'isSSO', 'additionalData',\n",
    "    'learningPlatformUserId', 'coachId' \n",
    "],\n",
    "             inplace=True,\n",
    "             axis=1,\n",
    "             errors='ignore')\n",
    "\n",
    "if verbose:\n",
    "    display(dfUsers.head())"
   ]
  },
  {
   "cell_type": "markdown",
   "metadata": {},
   "source": [
    "### Merge the files together to bring in the coach's name and identifiers against the coachees record"
   ]
  },
  {
   "cell_type": "code",
   "execution_count": 13,
   "metadata": {},
   "outputs": [],
   "source": [
    "# add in the coaches name if there is one by merging the users file into the coach / coachee file by joining on the coach id\n",
    "dfCoach = pd.merge(\n",
    "    dfCoach, dfUsers, how='left', left_on='coachId', right_on='orgUser_Id')\n",
    "\n",
    "if verbose:\n",
    "    display(dfCoach.head())"
   ]
  },
  {
   "cell_type": "code",
   "execution_count": 14,
   "metadata": {},
   "outputs": [],
   "source": [
    "# drop the unneeded columns - this column is a duplicate of the coachId\n",
    "dfCoach.drop([\n",
    "    'orgUser_Id', 'AvatarSupplied', 'clientUserId', 'declaraLinked',\n",
    "    'languagePreference', 'orgUser_Id', 'primaryEmail', 'userDeletedAt',\n",
    "    'userStatus'\n",
    "],\n",
    "             inplace=True,\n",
    "             axis=1,\n",
    "             errors='ignore')\n",
    "\n",
    "if verbose:\n",
    "    display(dfCoach.head())"
   ]
  },
  {
   "cell_type": "code",
   "execution_count": 15,
   "metadata": {},
   "outputs": [],
   "source": [
    "# Rename the columns to indicate which are the ones that belong to the coaches DisplayName and id's\n",
    "dfCoach.columns = [\n",
    "    'coachId', 'dateFrom', 'dateTo', 'learnerId', 'coachDisplayName', 'coachNameId', 'coachOrgUserId'\n",
    "]\n",
    "\n",
    "if verbose:\n",
    "    display(dfCoach.head())"
   ]
  },
  {
   "cell_type": "code",
   "execution_count": 16,
   "metadata": {},
   "outputs": [],
   "source": [
    "# Update the userse table with the coach / coachee details\n",
    "dfUsers = pd.merge(\n",
    "    dfUsers, dfCoach, how='left', left_on='orgUser_Id', right_on='learnerId')\n",
    "\n",
    "if verbose:\n",
    "    display(dfUsers.head())    "
   ]
  },
  {
   "cell_type": "code",
   "execution_count": 17,
   "metadata": {},
   "outputs": [],
   "source": [
    "if verbose:\n",
    "    print(*dfUsers, sep='\\n')\n",
    "    display(dfUsers)     "
   ]
  },
  {
   "cell_type": "code",
   "execution_count": 18,
   "metadata": {},
   "outputs": [],
   "source": [
    "# rename columns\n",
    "# The key renameing is orgUserId -> userId & orgUser_Id -> user_Id\n",
    "\n",
    "dfUsers.columns = ['AvatarSupplied', 'clientUserId', 'declaraLinked', 'displayName', 'languagePreference', 'nameId', 'userId', 'user_Id', 'primaryEmail', 'userDeletedAt', 'userStatus', 'coachId', 'dateFrom', \n",
    "'dateTo', 'learnerId', 'coachDisplayName', 'coachNameId', 'coachOrgUserId']\n",
    "\n",
    "if verbose:\n",
    "    display(dfUsers.head())"
   ]
  },
  {
   "cell_type": "code",
   "execution_count": 19,
   "metadata": {},
   "outputs": [],
   "source": [
    "# Extract the list of coaches\n",
    "\n",
    "# get the unique users from data frame. This is what we will interate through\n",
    "coachNames = dfUsers['coachDisplayName'].dropna().unique()\n",
    "\n",
    "if verbose:\n",
    "    display(coachNames.shape)\n",
    "    display(coachNames)"
   ]
  },
  {
   "cell_type": "markdown",
   "metadata": {},
   "source": [
    "## Group Data Retrieval"
   ]
  },
  {
   "cell_type": "markdown",
   "metadata": {},
   "source": [
    "### Take note of the setting here of the wild card\n",
    "The code is left like this in case there is a need to use a search criteria at a later date, but for now check to see if it is using a wild card in the next cell"
   ]
  },
  {
   "cell_type": "code",
   "execution_count": 20,
   "metadata": {},
   "outputs": [],
   "source": [
    "# Need to introduce this check as the commands are different if I want to conduct a serach or return all values\n",
    "# create a variable to determine if I want to perform a wildcard search\n",
    "\n",
    "wildcardSearch = True\n"
   ]
  },
  {
   "cell_type": "code",
   "execution_count": 21,
   "metadata": {},
   "outputs": [],
   "source": [
    "# Get the group information from the data base\n",
    "# Query the data from the database using a filter\n",
    "queryField = \"userId\"\n",
    "sortField = \"groupName\"\n",
    "\n",
    "# define the search query\n",
    "query = {\n",
    "    queryField: {\n",
    "        '$in': searchCriteria\n",
    "    }  # matches ensuring only the requested students are supplied\n",
    "}\n",
    "\n",
    "if wildcardSearch:\n",
    "    # no filter is provided for a wildcard search\n",
    "    # return sorted results\n",
    "    cursor = groupDataCollection.find().sort([(sortField, 1)])\n",
    "else:\n",
    "    # return filtered and sorted results\n",
    "    cursor = groupDataCollection.find(query).sort([(sortField, 1)])\n",
    "\n",
    "# put the results into a dataframe\n",
    "dfGroup = pd.DataFrame(list(cursor))\n",
    "\n",
    "if verbose:\n",
    "    print(dfGroup.shape)\n",
    "    display(dfGroup.head())"
   ]
  },
  {
   "cell_type": "code",
   "execution_count": 22,
   "metadata": {},
   "outputs": [],
   "source": [
    "if verbose:\n",
    "\n",
    "    # count columns and rows\n",
    "    print(\"Number of columns are \" + str(len(dfGroup.columns)))\n",
    "    print(\"Number of rows are \" + str(len(dfGroup.index)))\n",
    "    print()\n",
    "\n",
    "    # output the shape of the dataframe\n",
    "    print(\"The shape of the data frame is \" + str(dfGroup.shape))\n",
    "    print()\n",
    "\n",
    "    # output the column names\n",
    "    print(\"The column names of the data frame are: \")\n",
    "    print(*dfGroup, sep='\\n')\n",
    "    print()\n",
    "\n",
    "    # output the column names and datatypes\n",
    "    print(\"The datatypes of the data frame are: \")\n",
    "    print(dfGroup.dtypes)\n",
    "    print()"
   ]
  },
  {
   "cell_type": "markdown",
   "metadata": {},
   "source": [
    "# Group stuff\n",
    "This needs work because this is not the correct relationship in this code. A intersection table needs to be used and also account of the dates that the surveys were taken."
   ]
  },
  {
   "cell_type": "code",
   "execution_count": 23,
   "metadata": {
    "scrolled": true
   },
   "outputs": [],
   "source": [
    "# get the unique users from data frame. This is what we will interate through\n",
    "groupId = dfGroup['groupName'].unique()\n",
    "\n",
    "if verbose:\n",
    "    display(groupId.shape)\n",
    "    display(groupId)"
   ]
  },
  {
   "cell_type": "markdown",
   "metadata": {},
   "source": [
    "### CLARA Results Retrieval"
   ]
  },
  {
   "cell_type": "code",
   "execution_count": 24,
   "metadata": {},
   "outputs": [],
   "source": [
    "# Need to introduce this check as the commands are different if I want to conduct a serach or return all values\n",
    "# create a variable to determine if I want to perform a wildcard search\n",
    "wildcardSearch = True\n",
    "\n",
    "# Get the group information from the data base\n",
    "# Query the data from the database using a filter\n",
    "queryField = \"userId\"\n",
    "sortField = \"groupName\"\n",
    "\n",
    "# define the search query\n",
    "query = {\n",
    "    queryField: {\n",
    "        '$in': searchCriteria\n",
    "    }  # matches ensuring only the requested students are supplied\n",
    "}\n",
    "\n",
    "if wildcardSearch:\n",
    "    # no filter is provided for a wildcard search\n",
    "    # return sorted results\n",
    "    cursor = resultsDataCollection.find().sort([(sortField, 1)])\n",
    "else:\n",
    "    # return filtered and sorted results\n",
    "    cursor = resultsDataCollection.find(query).sort([(sortField, 1)])\n",
    "\n",
    "# put the results into a dataframe\n",
    "dfResults = pd.DataFrame(list(cursor))\n",
    "\n",
    "if verbose:\n",
    "    print(dfResults.shape)\n",
    "    display(dfResults.head())"
   ]
  },
  {
   "cell_type": "code",
   "execution_count": 25,
   "metadata": {},
   "outputs": [],
   "source": [
    "# Display information about the data that has been retrieved\n",
    "if verbose:\n",
    "\n",
    "    # count columns and rows\n",
    "    print(\"Number of columns are \" + str(len(dfResults.columns)))\n",
    "    print(\"Number of rows are \" + str(len(dfResults.index)))\n",
    "    print()\n",
    "\n",
    "    # output the shape of the dataframe\n",
    "    print(\"The shape of the data frame is \" + str(dfResults.shape))\n",
    "    print()\n",
    "\n",
    "    # output the column names\n",
    "    print(\"The column names of the data frame are: \")\n",
    "    print(*dfResults, sep='\\n')\n",
    "    print()\n",
    "\n",
    "    # output the column names and datatypes\n",
    "    print(\"The datatypes of the data frame are: \")\n",
    "    print(dfResults.dtypes)\n",
    "    print()"
   ]
  },
  {
   "cell_type": "markdown",
   "metadata": {},
   "source": [
    "# Create additional columns\n",
    "These will help in understanding the data and if the surveys are valid or not.\n",
    "There are many test journeys and the like that we don't want to include in the analysis"
   ]
  },
  {
   "cell_type": "markdown",
   "metadata": {},
   "source": [
    "## Second Survey\n",
    "This makes a column that indicates if the student completed a second survey"
   ]
  },
  {
   "cell_type": "code",
   "execution_count": 26,
   "metadata": {},
   "outputs": [],
   "source": [
    "# test to see if the start date for the 2nd survey is blank, if so, then False\n",
    "dfResults[\"completedSecondSurvey\"] = np.where(\n",
    "    dfResults[\"measure_ClaraResultsCreatedAt\"].isnull(), False, True)"
   ]
  },
  {
   "cell_type": "markdown",
   "metadata": {},
   "source": [
    "## Survey Duration"
   ]
  },
  {
   "cell_type": "code",
   "execution_count": 27,
   "metadata": {},
   "outputs": [],
   "source": [
    "# Duration of surveys\n",
    "\n",
    "# convert the number fields to a datetime field\n",
    "dfResults.loc[:, \"diagnose_ClaraResultsCreatedAt\"] = pd.to_datetime(\n",
    "    dfResults.loc[:, 'diagnose_ClaraResultsCreatedAt'])\n",
    "\n",
    "dfResults.loc[:, \"diagnose_ClaraResultCompletedAt\"] = pd.to_datetime(\n",
    "    dfResults.loc[:, 'diagnose_ClaraResultCompletedAt'])\n",
    "\n",
    "dfResults.loc[:, \"measure_ClaraResultsCreatedAt\"] = pd.to_datetime(\n",
    "    dfResults.loc[:, 'measure_ClaraResultsCreatedAt'])\n",
    "\n",
    "dfResults.loc[:, \"measure_ClaraResultCompletedAt\"] = pd.to_datetime(\n",
    "    dfResults.loc[:, 'measure_ClaraResultCompletedAt'])"
   ]
  },
  {
   "cell_type": "code",
   "execution_count": 28,
   "metadata": {},
   "outputs": [],
   "source": [
    "# this calcs the duration of the surveys in HH:MM:SS\n",
    "dfResults.loc[:,\n",
    "              \"surveyOneDuration\"] = dfResults.loc[:,\n",
    "                                                   \"diagnose_ClaraResultCompletedAt\"] - dfResults.loc[:,\n",
    "                                                                                                      \"diagnose_ClaraResultsCreatedAt\"]\n",
    "dfResults.loc[:,\n",
    "              \"surveyTwoDuration\"] = dfResults.loc[:,\n",
    "                                                   \"measure_ClaraResultCompletedAt\"] - dfResults.loc[:,\n",
    "                                                                                                     \"measure_ClaraResultsCreatedAt\"]"
   ]
  },
  {
   "cell_type": "code",
   "execution_count": 29,
   "metadata": {},
   "outputs": [],
   "source": [
    "# Calc the time between the end of the first survey and the start of the second one\n",
    "dfResults.loc[:,\n",
    "              \"surveyBetweenDuration\"] = dfResults.loc[:,\n",
    "                                                       \"measure_ClaraResultsCreatedAt\"] - dfResults.loc[:,\n",
    "                                                                                                        \"diagnose_ClaraResultCompletedAt\"]"
   ]
  },
  {
   "cell_type": "markdown",
   "metadata": {},
   "source": [
    "# Interactive section\n",
    "As the code for the widgets executes immediately, this needs to be nested inside a function otherwise it doesn't wait for the user to select their input.<br>\n",
    "This function contains the code for a second button to seek user interaction to save the file.<br>"
   ]
  },
  {
   "cell_type": "code",
   "execution_count": 77,
   "metadata": {},
   "outputs": [],
   "source": [
    "# this function is used to display the groups to the user and set the value for use in the rest of the munging\n",
    "# it contains all of the remaining code otherwise it just skips past this button and executes it which is meaningless in this context\n",
    "\n",
    "\n",
    "def GroupIdSelect(groupId, coachName):\n",
    "\n",
    "    # Get the user id's into a variable for selecting from the results data frame\n",
    "    # Compare the group name selected by the user and return the columns where it matches\n",
    "    groupUserId = list(dfGroup.loc[dfGroup['groupName'] == groupId]['userId'])\n",
    "\n",
    "    # Get the user id's into a variable for selecting from the results data frame\n",
    "    coachUserId = list(\n",
    "        dfUsers.loc[dfUsers['coachDisplayName'] == coachName]['userId'])\n",
    "\n",
    "    # if any of the options are blank then don't include them\n",
    "    if (groupId == \"\") & (coachName == \"\"):\n",
    "        combinedUserId = []\n",
    "        # print out to the user their selection and their matches\n",
    "        print(\"\\n\" + \"*\" * 45)\n",
    "        print((\"\\n       You did not select a group \\n\"))\n",
    "        print((\"\\n       You did not select a coach \\n\"))\n",
    "        print(\"\\nThis results in \" + str(len(combinedUserId)) +\n",
    "              \" people selected\")\n",
    "    elif groupId == \"\":\n",
    "        combinedUserId = coachUserId\n",
    "        # print out to the user their selection and their matches\n",
    "        print(\"\\n\" + \"*\" * 45)\n",
    "        print((\"\\n       You did not select a group \\n\"))\n",
    "        print((\"\\n       The coach you picked is: \\n\"))\n",
    "        print(\"              \" + coachName + \"\")\n",
    "        print(\"\\nThe number of members in the coach selection is: \" +\n",
    "              str(len(coachUserId)))\n",
    "        print(\"\\nThis results in \" + str(len(combinedUserId)) +\n",
    "              \" people selected\")\n",
    "    elif coachName == \"\":\n",
    "        combinedUserId = groupUserId\n",
    "        # print out to the user their selection and their matches\n",
    "        print(\"\\n\" + \"*\" * 45)\n",
    "        print((\"\\n         The group you picked is: \\n\"))\n",
    "        print(\"              \" + groupId + \"\")\n",
    "        print(\"\\nThe number of members in the group is: \" +\n",
    "              str(len(groupUserId)))\n",
    "        print((\"\\n         You did not select a coach \\n\"))\n",
    "        print(\"\\nThis results in \" + str(len(combinedUserId)) +\n",
    "              \" people selected\")\n",
    "    else:\n",
    "        # this is the intersection of the two selections\n",
    "        # only the students that match both\n",
    "        combinedUserId = list(set(groupUserId) & set(coachUserId))\n",
    "\n",
    "        # print out to the user their selection and their matches\n",
    "        print(\"\\n\" + \"*\" * 45)\n",
    "        print((\"\\n         The group you picked is: \\n\"))\n",
    "        print(\"              \" + groupId + \"\")\n",
    "        print(\"\\n The number of members in the group is: \" +\n",
    "              str(len(groupUserId)))\n",
    "        print((\"\\n         The coach you picked is: \\n\"))\n",
    "        print(\"              \" + coachName + \"\")\n",
    "        print(\"\\nThe number of members in the coach selection is: \" +\n",
    "              str(len(coachUserId)))\n",
    "        print(\"\\nThis results in \" + str(len(combinedUserId)) +\n",
    "              \" people selected\")\n",
    "    # footer for display\n",
    "    print(\"\\n\" + \"*\" * 45 + \"\\n\")\n",
    "\n",
    "    # use isin function to select the rows that match the userId's that are in the selected group\n",
    "    selectedResults = dfResults.loc[dfResults['userId'].isin(\n",
    "        combinedUserId)].copy()\n",
    "    print()\n",
    "    print(\"The \" + str(len(combinedUserId)) + \" people selected have \" +\n",
    "          str(len(selectedResults)) + \" corresponding CLARA Journey results\")\n",
    "    print(\"\\nA sample of the key columns and data is: \\n\")\n",
    "    display(selectedResults[[\n",
    "        'userPrimaryEmail', 'completedSecondSurvey', 'journeyTitle',\n",
    "        'journeyGoal', 'diagnose_ClaraResultsCreatedAt',\n",
    "        'measure_ClaraResultsCreatedAt'\n",
    "    ]].head())\n",
    "\n",
    "    # drop the unneeded columns from the results set\n",
    "    selectedResults.drop([\n",
    "        '_id', 'claraResultsJourneyStep', 'diagnose_ClaraId', 'insertdate',\n",
    "        'journeyId', 'measure_ClaraId', 'measure_ClaraResultsJourneyStep',\n",
    "        'numTotalClaraJourneySurveys', 'numTotalClaraSurveys', 'rowIndex',\n",
    "        'userDeclaraLinked', 'userDeletedAt', 'userAvatarSupplied',\n",
    "        'userClientUserId', 'userExtraData', 'userId',\n",
    "        'userLanguagePreference', 'userStatus', 'userName'\n",
    "    ],\n",
    "                         inplace=True,\n",
    "                         axis=1,\n",
    "                         errors='ignore')\n",
    "\n",
    "    if verbose:\n",
    "        print(\"\\nThe column names: \\n\")\n",
    "        print(selectedResults.columns)\n",
    "        print(\"\\nA sample of the all columns and data is: \\n\")\n",
    "        display(selectedResults.head())\n",
    "\n",
    "    ############# !~~~~~~~~~~~~~~~~~~~~~~~~~~~~~~~~~~~~~~~~~~~~~~~~~~~! #############\n",
    "    # Saving the file section really starts here\n",
    "    # add a few extra lines for seperation from the save file\n",
    "    print(\"\\n\" * 3)\n",
    "    print(\"\\n\" + \"*\" * 80 + \"\\n\")\n",
    "    print(\"Specify the name of the file to be saved... \")\n",
    "    print(\n",
    "        \"This will automatically place a comma serparated file onto the platform\"\n",
    "    )\n",
    "    print(\n",
    "        \"at the following location - http://127.0.0.1:8888/tree/datasets/CLARA/UserSaved\"\n",
    "    )\n",
    "    print(\n",
    "        \"Please note that this will overwrite any file with the same name, please check before saving the file.\"\n",
    "    )\n",
    "    print()\n",
    "    print(\n",
    "        \"A good format could be YYMMDD_SubjectOrGroup_LecturerOrTutor - It depends on the the data that you have selected.\"\n",
    "    )\n",
    "    print()\n",
    "\n",
    "    # # Save File\n",
    "    # This section waits for the user to interact with the code to set the file name of the csv file.\n",
    "\n",
    "    # set a variable to hold the filename - note there is a check if the user tries to use this value to save the file.\n",
    "    filename = \"Specify_filename\"\n",
    "    # define the widget controls\n",
    "    wFilename = widgets.Text(\n",
    "        value=filename,\n",
    "        placeholder='Go on... type the file name?',\n",
    "        description='Filename:',\n",
    "        disabled=False)\n",
    "\n",
    "    # this function is used to manage the setting of the filename and saving that file.\n",
    "\n",
    "    def saveFile(filename):\n",
    "\n",
    "        # check to see if the file ends in .csv, if it does do nothing otherwise, add it to the end of the filename\n",
    "        # note that the tests below have been modified to take this into account\n",
    "        # therefore blank file name is actually \".csv\"\n",
    "        if filename[-4:] != \".csv\":\n",
    "            # add .csv to the filename\n",
    "            filename = filename + \".csv\"\n",
    "\n",
    "        # write out data to CSV file.\n",
    "        # test to see if the user has entered a filename otherwise reject and let them try again\n",
    "        # see lines above for why the tests have .csv in them\n",
    "        if filename == \".csv\":  # file name is blank\n",
    "            print(\"\\n\" + \"*\" * 45 + \"\\n\")\n",
    "            print(\"     You need to enter a filename!\")\n",
    "            print(\"\\n\" + \"*\" * 45)\n",
    "\n",
    "        elif filename != \"Specify_filename.csv\":  # file name has been changed by the user - not negative testing\n",
    "            # don't write the index to the file as it is not required and it breaks when reading the file back in later on\n",
    "            selectedResults.to_csv(\n",
    "                \"~/datasets/CLARA/UserSaved/\" + filename, index=False)\n",
    "            print(\"\\n\" + \"##!\" * 45 + \"\\n\")\n",
    "            print(\"Congrats! \\n\\nFile of \" + str(len(selectedResults)) +\n",
    "                  \" records succesfully written to: \" +\n",
    "                  \"~/datasets/CLARA/UserSaved/\" + filename)\n",
    "            print(\"\\n\" + \"##!\" * 45 + \"\\n\")\n",
    "\n",
    "        else:  # this means that the user has entered a filename of some sort\n",
    "            print(\"\\n\" + \"*\" * 45 + \"\\n\")\n",
    "            print((\"         File is NOT saved!\"))\n",
    "            print(\"     You need to specify the file name in the box.\")\n",
    "            print(\"\\n\" + \"*\" * 45 + \"\\n\")\n",
    "\n",
    "        # end function saveFile and return with nothing as file has been written or not...\n",
    "        return\n",
    "\n",
    "    ## Set up the interaction component\n",
    "    # set the name on the button\n",
    "    interact_save = interact_manual.options(manual_name=\"Save File\")\n",
    "\n",
    "    # This file is used by the next step of the analysis to save the file interactively\n",
    "    interact_save(saveFile, filename=wFilename)\n",
    "\n",
    "    # end function GroupIdSelect and return with nothing as data was selected and then written...\n",
    "    return"
   ]
  },
  {
   "cell_type": "markdown",
   "metadata": {},
   "source": [
    "## Set up the interaction component"
   ]
  },
  {
   "cell_type": "code",
   "execution_count": 31,
   "metadata": {},
   "outputs": [],
   "source": [
    "# add a blank value to the variable - this is used as a default value\n",
    "groupId = np.append(groupId, \"\")\n",
    "\n",
    "# define the widget controls for the groups that are available\n",
    "wGroupId = widgets.Dropdown(\n",
    "    options=groupId, description='Select Group', value='', disabled=False)\n",
    "\n",
    "if verbose:\n",
    "    print(groupId)"
   ]
  },
  {
   "cell_type": "code",
   "execution_count": 32,
   "metadata": {},
   "outputs": [],
   "source": [
    "# add a blank value to the variable - this is used as a default value\n",
    "coachNames = np.append(coachNames, \"\")\n",
    "\n",
    "# define the widget controls for the coach names\n",
    "wCoachNames = widgets.Dropdown(\n",
    "    options=coachNames, description='Select Coach', value='', disabled=False)\n",
    "\n",
    "if verbose:\n",
    "    print(coachNames)"
   ]
  },
  {
   "cell_type": "code",
   "execution_count": 33,
   "metadata": {},
   "outputs": [],
   "source": [
    "# set the name on the button\n",
    "interactGroupId = interact_manual.options(manual_name=\"Pick Group + Coach\")"
   ]
  },
  {
   "cell_type": "code",
   "execution_count": 78,
   "metadata": {},
   "outputs": [
    {
     "name": "stdout",
     "output_type": "stream",
     "text": [
      "\n",
      "\n",
      "\n",
      "\n"
     ]
    },
    {
     "data": {
      "application/vnd.jupyter.widget-view+json": {
       "model_id": "3fa9dc9fcab54e12b891eb03aa30f0cc",
       "version_major": 2,
       "version_minor": 0
      },
      "text/plain": [
       "interactive(children=(Dropdown(description='Select Group', index=27, options=('2019 Autumn', '2019 Summer', '2…"
      ]
     },
     "metadata": {},
     "output_type": "display_data"
    },
    {
     "name": "stdout",
     "output_type": "stream",
     "text": [
      "\n",
      "\n",
      "\n",
      "\n"
     ]
    }
   ],
   "source": [
    "print(\"\\n\" * 3)\n",
    "# This file is used by the next step of the analysis\n",
    "interactGroupId(GroupIdSelect, groupId=wGroupId, coachName=wCoachNames)\n",
    "\n",
    "print(\"\\n\" * 3)"
   ]
  }
 ],
 "metadata": {
  "kernelspec": {
   "display_name": "Python 3",
   "language": "python",
   "name": "python3"
  },
  "language_info": {
   "codemirror_mode": {
    "name": "ipython",
    "version": 3
   },
   "file_extension": ".py",
   "mimetype": "text/x-python",
   "name": "python",
   "nbconvert_exporter": "python",
   "pygments_lexer": "ipython3",
   "version": "3.7.1"
  }
 },
 "nbformat": 4,
 "nbformat_minor": 2
}
